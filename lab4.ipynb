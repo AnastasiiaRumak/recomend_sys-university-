{
 "cells": [
  {
   "cell_type": "code",
   "execution_count": 3,
   "id": "f36a7c25-2398-47bb-8b6d-056f95c0ed90",
   "metadata": {},
   "outputs": [],
   "source": [
    "from surprise import SVD, SVDpp\n",
    "from surprise import Dataset\n",
    "from surprise.model_selection import cross_validate\n",
    "from surprise import Reader\n",
    "\n",
    "data = Dataset.load_builtin('ml-100k')\n",
    "\n"
   ]
  },
  {
   "cell_type": "code",
   "execution_count": 4,
   "id": "61e8e108-d8a2-4127-abb9-e89b72eea4a0",
   "metadata": {},
   "outputs": [
    {
     "name": "stdout",
     "output_type": "stream",
     "text": [
      "Evaluating RMSE, MAE of algorithm SVD on 5 split(s).\n",
      "\n",
      "                  Fold 1  Fold 2  Fold 3  Fold 4  Fold 5  Mean    Std     \n",
      "RMSE (testset)    0.9338  0.9389  0.9275  0.9438  0.9385  0.9365  0.0055  \n",
      "MAE (testset)     0.7345  0.7419  0.7322  0.7458  0.7403  0.7389  0.0050  \n",
      "Fit time          0.75    0.73    0.73    0.73    0.74    0.73    0.01    \n",
      "Test time         0.06    0.07    0.06    0.07    0.07    0.07    0.00    \n",
      "Evaluating RMSE, MAE of algorithm SVDpp on 5 split(s).\n",
      "\n",
      "                  Fold 1  Fold 2  Fold 3  Fold 4  Fold 5  Mean    Std     \n",
      "RMSE (testset)    0.9144  0.9109  0.9289  0.9258  0.9164  0.9193  0.0069  \n",
      "MAE (testset)     0.7157  0.7168  0.7280  0.7243  0.7167  0.7203  0.0049  \n",
      "Fit time          24.76   28.23   37.34   34.11   27.19   30.33   4.66    \n",
      "Test time         6.01    6.14    2.95    6.23    6.15    5.50    1.28    \n",
      "Результаты для SVD:\n",
      "Средний RMSE: 0.9364899803247096\n",
      "Средний MAE: 0.7389319800616345\n",
      "\n",
      "Результаты для SVD++:\n",
      "Средний RMSE: 0.9192694925577106\n",
      "Средний MAE: 0.7202961512250777\n"
     ]
    }
   ],
   "source": [
    "# SVD с использованием градиентного спуска\n",
    "svd_model = SVD(biased=True)\n",
    "svd_results = cross_validate(svd_model, data, measures=['RMSE', 'MAE'], cv=5, verbose=True)\n",
    "\n",
    "# SVD++ (Surprise)\n",
    "svdpp_model = SVDpp()\n",
    "svdpp_results = cross_validate(svdpp_model, data, measures=['RMSE', 'MAE'], cv=5, verbose=True)\n",
    "\n",
    "print(\"Результаты для SVD:\")\n",
    "print(\"Средний RMSE:\", svd_results['test_rmse'].mean())\n",
    "print(\"Средний MAE:\", svd_results['test_mae'].mean())\n",
    "\n",
    "print(\"\\nРезультаты для SVD++:\")\n",
    "print(\"Средний RMSE:\", svdpp_results['test_rmse'].mean())\n",
    "print(\"Средний MAE:\", svdpp_results['test_mae'].mean())\n"
   ]
  },
  {
   "cell_type": "code",
   "execution_count": 9,
   "id": "e8faa870-71df-49e0-bbbe-62dc324e7622",
   "metadata": {},
   "outputs": [
    {
     "data": {
      "text/plain": [
       "<surprise.dataset.DatasetAutoFolds at 0x7f8eb8603610>"
      ]
     },
     "execution_count": 9,
     "metadata": {},
     "output_type": "execute_result"
    }
   ],
   "source": [
    "data"
   ]
  },
  {
   "cell_type": "code",
   "execution_count": null,
   "id": "b0f49418-85b1-4e9e-b37e-7bff089fc237",
   "metadata": {},
   "outputs": [],
   "source": []
  }
 ],
 "metadata": {
  "kernelspec": {
   "display_name": "Python 3 (ipykernel)",
   "language": "python",
   "name": "python3"
  },
  "language_info": {
   "codemirror_mode": {
    "name": "ipython",
    "version": 3
   },
   "file_extension": ".py",
   "mimetype": "text/x-python",
   "name": "python",
   "nbconvert_exporter": "python",
   "pygments_lexer": "ipython3",
   "version": "3.11.4"
  }
 },
 "nbformat": 4,
 "nbformat_minor": 5
}
