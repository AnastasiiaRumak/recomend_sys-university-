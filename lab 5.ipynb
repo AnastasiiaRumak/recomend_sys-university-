{
 "cells": [
  {
   "cell_type": "code",
   "execution_count": 1,
   "id": "f9fd84ab-d576-4ad7-8a2c-1eb0e5e4ef83",
   "metadata": {},
   "outputs": [
    {
     "name": "stdout",
     "output_type": "stream",
     "text": [
      "      user_id item_id  rating  timestamp\n",
      "0         196     242     3.0  881250949\n",
      "1         186     302     3.0  891717742\n",
      "2          22     377     1.0  878887116\n",
      "3         244      51     2.0  880606923\n",
      "4         166     346     1.0  886397596\n",
      "...       ...     ...     ...        ...\n",
      "99995     880     476     3.0  880175444\n",
      "99996     716     204     5.0  879795543\n",
      "99997     276    1090     1.0  874795795\n",
      "99998      13     225     2.0  882399156\n",
      "99999      12     203     3.0  879959583\n",
      "\n",
      "[100000 rows x 4 columns]\n"
     ]
    }
   ],
   "source": [
    "from surprise import Dataset\n",
    "import pandas as pd\n",
    "\n",
    "\n",
    "# Загрузка данных\n",
    "data = Dataset.load_builtin('ml-100k')\n",
    "\n",
    "# Преобразование данных в формат pandas DataFrame\n",
    "df = pd.DataFrame(data.raw_ratings, columns=['user_id', 'item_id', 'rating', 'timestamp'])\n",
    "\n",
    "# Вывод первых нескольких строк DataFrame\n",
    "print(df)\n"
   ]
  },
  {
   "cell_type": "code",
   "execution_count": 2,
   "id": "93551f92-6cba-4026-89b3-9c7272f1a474",
   "metadata": {},
   "outputs": [],
   "source": [
    "# Импорт необходимых библиотек и классов\n",
    "import pandas as pd  # Добавлен импорт pandas\n",
    "from surprise import Dataset, Reader\n",
    "from surprise.model_selection import train_test_split\n",
    "from surprise import SVD\n",
    "from sklearn.feature_extraction.text import TfidfVectorizer\n",
    "from sklearn.metrics.pairwise import linear_kernel"
   ]
  },
  {
   "cell_type": "code",
   "execution_count": 3,
   "id": "3c785924-76d1-4e17-afca-69db652cf124",
   "metadata": {},
   "outputs": [],
   "source": [
    "data = Dataset.load_builtin('ml-100k')\n",
    "trainset, testset = train_test_split(data, test_size=0.2)\n",
    "\n",
    "svd_model = SVD()\n",
    "svd_model.fit(trainset)\n",
    "\n",
    "items = {\n",
    "    'item_id': [1, 2, 3],\n",
    "    'description': ['Description 1', 'Description 2', 'Description 3']\n",
    "}\n",
    "\n",
    "items_df = pd.DataFrame(items)"
   ]
  },
  {
   "cell_type": "code",
   "execution_count": 4,
   "id": "071167f6-312b-48d2-99e5-072a11527551",
   "metadata": {},
   "outputs": [],
   "source": [
    "# Преобразование описаний в векторы TF-IDF\n",
    "tfidf_vectorizer = TfidfVectorizer(stop_words='english')\n",
    "tfidf_matrix = tfidf_vectorizer.fit_transform(items_df['description'])\n",
    "\n",
    "# Расчет схожести между товарами на основе TF-IDF\n",
    "cosine_sim = linear_kernel(tfidf_matrix, tfidf_matrix)\n"
   ]
  },
  {
   "cell_type": "code",
   "execution_count": 5,
   "id": "e946aad4-06ed-44c7-8df4-5657a307da99",
   "metadata": {},
   "outputs": [],
   "source": [
    "# Функция для получения рекомендаций на основе гибридной модели\n",
    "def hybrid_recommendation(user_id, item_id):\n",
    "    # Получение предсказания от коллаборативной модели\n",
    "    collab_prediction = svd_model.predict(user_id, item_id).est\n",
    "\n",
    "    # Получение индекса товара в контентной матрице\n",
    "    item_index = items_df[items_df['item_id'] == item_id].index[0]\n",
    "\n",
    "    # Получение схожих товаров и их схожести с текущим товаром\n",
    "    sim_scores = list(enumerate(cosine_sim[item_index]))\n",
    "    sim_scores = sorted(sim_scores, key=lambda x: x[1], reverse=True)\n",
    "\n",
    "    # Получение индексов топ-3 похожих товаров\n",
    "    top_items = [i[0] for i in sim_scores[1:4]]\n",
    "\n",
    "    # Получение TF-IDF векторов описаний топ-3 похожих товаров\n",
    "    top_items_tfidf = tfidf_matrix[top_items]\n",
    "\n",
    "    # Получение среднего TF-IDF вектора для топ-3 похожих товаров\n",
    "    avg_tfidf_vector = top_items_tfidf.mean(axis=0)\n",
    "\n",
    "    # Усреднение предсказаний от обоих моделей\n",
    "    hybrid_prediction = (collab_prediction + avg_tfidf_vector.sum()) / 2\n",
    "\n",
    "    return hybrid_prediction"
   ]
  },
  {
   "cell_type": "code",
   "execution_count": 6,
   "id": "ad0eb4d4-69c5-49e3-af04-f3de05f052d2",
   "metadata": {},
   "outputs": [
    {
     "name": "stdout",
     "output_type": "stream",
     "text": [
      "Hybrid Recommendation for User 1, Item 2: 2.2651874999999997\n"
     ]
    }
   ],
   "source": [
    "# Пример использования функции\n",
    "user_id = 1\n",
    "item_id = 2\n",
    "recommendation = hybrid_recommendation(user_id, item_id)\n",
    "print(f\"Hybrid Recommendation for User {user_id}, Item {item_id}: {recommendation}\")\n"
   ]
  },
  {
   "cell_type": "code",
   "execution_count": null,
   "id": "534fcf6f-387b-4241-9bf1-d773eee419d0",
   "metadata": {},
   "outputs": [],
   "source": []
  },
  {
   "cell_type": "code",
   "execution_count": null,
   "id": "6160f384-9e38-47fe-86bf-2ce225a9f15a",
   "metadata": {},
   "outputs": [],
   "source": []
  }
 ],
 "metadata": {
  "kernelspec": {
   "display_name": "Python 3 (ipykernel)",
   "language": "python",
   "name": "python3"
  },
  "language_info": {
   "codemirror_mode": {
    "name": "ipython",
    "version": 3
   },
   "file_extension": ".py",
   "mimetype": "text/x-python",
   "name": "python",
   "nbconvert_exporter": "python",
   "pygments_lexer": "ipython3",
   "version": "3.11.4"
  }
 },
 "nbformat": 4,
 "nbformat_minor": 5
}
