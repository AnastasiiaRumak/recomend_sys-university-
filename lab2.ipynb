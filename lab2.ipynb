{
 "cells": [
  {
   "cell_type": "code",
   "execution_count": 1,
   "id": "126063f3",
   "metadata": {},
   "outputs": [],
   "source": [
    "import numpy as np\n",
    "import pandas as pd"
   ]
  },
  {
   "cell_type": "code",
   "execution_count": 2,
   "id": "b613b0ea",
   "metadata": {},
   "outputs": [
    {
     "data": {
      "text/html": [
       "<div>\n",
       "<style scoped>\n",
       "    .dataframe tbody tr th:only-of-type {\n",
       "        vertical-align: middle;\n",
       "    }\n",
       "\n",
       "    .dataframe tbody tr th {\n",
       "        vertical-align: top;\n",
       "    }\n",
       "\n",
       "    .dataframe thead th {\n",
       "        text-align: right;\n",
       "    }\n",
       "</style>\n",
       "<table border=\"1\" class=\"dataframe\">\n",
       "  <thead>\n",
       "    <tr style=\"text-align: right;\">\n",
       "      <th></th>\n",
       "      <th>userId</th>\n",
       "      <th>movieId</th>\n",
       "      <th>rating</th>\n",
       "      <th>timestamp</th>\n",
       "    </tr>\n",
       "  </thead>\n",
       "  <tbody>\n",
       "    <tr>\n",
       "      <th>0</th>\n",
       "      <td>1</td>\n",
       "      <td>31</td>\n",
       "      <td>2.5</td>\n",
       "      <td>1260759144</td>\n",
       "    </tr>\n",
       "    <tr>\n",
       "      <th>1</th>\n",
       "      <td>1</td>\n",
       "      <td>1029</td>\n",
       "      <td>3.0</td>\n",
       "      <td>1260759179</td>\n",
       "    </tr>\n",
       "    <tr>\n",
       "      <th>2</th>\n",
       "      <td>1</td>\n",
       "      <td>1061</td>\n",
       "      <td>3.0</td>\n",
       "      <td>1260759182</td>\n",
       "    </tr>\n",
       "    <tr>\n",
       "      <th>3</th>\n",
       "      <td>1</td>\n",
       "      <td>1129</td>\n",
       "      <td>2.0</td>\n",
       "      <td>1260759185</td>\n",
       "    </tr>\n",
       "    <tr>\n",
       "      <th>4</th>\n",
       "      <td>1</td>\n",
       "      <td>1172</td>\n",
       "      <td>4.0</td>\n",
       "      <td>1260759205</td>\n",
       "    </tr>\n",
       "    <tr>\n",
       "      <th>...</th>\n",
       "      <td>...</td>\n",
       "      <td>...</td>\n",
       "      <td>...</td>\n",
       "      <td>...</td>\n",
       "    </tr>\n",
       "    <tr>\n",
       "      <th>99999</th>\n",
       "      <td>671</td>\n",
       "      <td>6268</td>\n",
       "      <td>2.5</td>\n",
       "      <td>1065579370</td>\n",
       "    </tr>\n",
       "    <tr>\n",
       "      <th>100000</th>\n",
       "      <td>671</td>\n",
       "      <td>6269</td>\n",
       "      <td>4.0</td>\n",
       "      <td>1065149201</td>\n",
       "    </tr>\n",
       "    <tr>\n",
       "      <th>100001</th>\n",
       "      <td>671</td>\n",
       "      <td>6365</td>\n",
       "      <td>4.0</td>\n",
       "      <td>1070940363</td>\n",
       "    </tr>\n",
       "    <tr>\n",
       "      <th>100002</th>\n",
       "      <td>671</td>\n",
       "      <td>6385</td>\n",
       "      <td>2.5</td>\n",
       "      <td>1070979663</td>\n",
       "    </tr>\n",
       "    <tr>\n",
       "      <th>100003</th>\n",
       "      <td>671</td>\n",
       "      <td>6565</td>\n",
       "      <td>3.5</td>\n",
       "      <td>1074784724</td>\n",
       "    </tr>\n",
       "  </tbody>\n",
       "</table>\n",
       "<p>100004 rows × 4 columns</p>\n",
       "</div>"
      ],
      "text/plain": [
       "        userId  movieId  rating   timestamp\n",
       "0            1       31     2.5  1260759144\n",
       "1            1     1029     3.0  1260759179\n",
       "2            1     1061     3.0  1260759182\n",
       "3            1     1129     2.0  1260759185\n",
       "4            1     1172     4.0  1260759205\n",
       "...        ...      ...     ...         ...\n",
       "99999      671     6268     2.5  1065579370\n",
       "100000     671     6269     4.0  1065149201\n",
       "100001     671     6365     4.0  1070940363\n",
       "100002     671     6385     2.5  1070979663\n",
       "100003     671     6565     3.5  1074784724\n",
       "\n",
       "[100004 rows x 4 columns]"
      ]
     },
     "execution_count": 2,
     "metadata": {},
     "output_type": "execute_result"
    }
   ],
   "source": [
    "data=pd.read_csv(\"ratings.csv\",header=0)\n",
    "data"
   ]
  },
  {
   "cell_type": "code",
   "execution_count": 3,
   "id": "63a32e7f",
   "metadata": {
    "scrolled": true
   },
   "outputs": [
    {
     "name": "stdout",
     "output_type": "stream",
     "text": [
      "[[   1.    31.     2.5]\n",
      " [   1.  1029.     3. ]\n",
      " [   1.  1061.     3. ]\n",
      " ...\n",
      " [ 671.  6365.     4. ]\n",
      " [ 671.  6385.     2.5]\n",
      " [ 671.  6565.     3.5]]\n"
     ]
    }
   ],
   "source": [
    "\n",
    "data= data[['userId','movieId','rating']]\n",
    "\n",
    "data_values = data.values\n",
    "\n",
    "# Изменение настроек вывода массивов NumPy для удобочитаемости\n",
    "np.set_printoptions(suppress=True)  # Подавление экспоненциальной нотации\n",
    "\n",
    "# Вывод массива с измененными настройками\n",
    "print(data_values)"
   ]
  },
  {
   "cell_type": "code",
   "execution_count": 4,
   "id": "5ad572e6",
   "metadata": {},
   "outputs": [],
   "source": [
    "#деление на тест и train\n",
    "#!pip install scikit-surprise\n",
    "\n",
    "from sklearn.model_selection import train_test_split\n",
    "trainset, testset = train_test_split(data, test_size=0.25, random_state=42)\n",
    "\n"
   ]
  },
  {
   "cell_type": "code",
   "execution_count": 5,
   "id": "3e4e0274",
   "metadata": {},
   "outputs": [
    {
     "data": {
      "text/html": [
       "<div>\n",
       "<style scoped>\n",
       "    .dataframe tbody tr th:only-of-type {\n",
       "        vertical-align: middle;\n",
       "    }\n",
       "\n",
       "    .dataframe tbody tr th {\n",
       "        vertical-align: top;\n",
       "    }\n",
       "\n",
       "    .dataframe thead th {\n",
       "        text-align: right;\n",
       "    }\n",
       "</style>\n",
       "<table border=\"1\" class=\"dataframe\">\n",
       "  <thead>\n",
       "    <tr style=\"text-align: right;\">\n",
       "      <th></th>\n",
       "      <th>userId</th>\n",
       "      <th>movieId</th>\n",
       "      <th>rating</th>\n",
       "    </tr>\n",
       "  </thead>\n",
       "  <tbody>\n",
       "    <tr>\n",
       "      <th>0</th>\n",
       "      <td>1</td>\n",
       "      <td>31</td>\n",
       "      <td>2.5</td>\n",
       "    </tr>\n",
       "    <tr>\n",
       "      <th>1</th>\n",
       "      <td>1</td>\n",
       "      <td>1029</td>\n",
       "      <td>3.0</td>\n",
       "    </tr>\n",
       "    <tr>\n",
       "      <th>2</th>\n",
       "      <td>1</td>\n",
       "      <td>1061</td>\n",
       "      <td>3.0</td>\n",
       "    </tr>\n",
       "    <tr>\n",
       "      <th>3</th>\n",
       "      <td>1</td>\n",
       "      <td>1129</td>\n",
       "      <td>2.0</td>\n",
       "    </tr>\n",
       "    <tr>\n",
       "      <th>4</th>\n",
       "      <td>1</td>\n",
       "      <td>1172</td>\n",
       "      <td>4.0</td>\n",
       "    </tr>\n",
       "    <tr>\n",
       "      <th>...</th>\n",
       "      <td>...</td>\n",
       "      <td>...</td>\n",
       "      <td>...</td>\n",
       "    </tr>\n",
       "    <tr>\n",
       "      <th>99999</th>\n",
       "      <td>671</td>\n",
       "      <td>6268</td>\n",
       "      <td>2.5</td>\n",
       "    </tr>\n",
       "    <tr>\n",
       "      <th>100000</th>\n",
       "      <td>671</td>\n",
       "      <td>6269</td>\n",
       "      <td>4.0</td>\n",
       "    </tr>\n",
       "    <tr>\n",
       "      <th>100001</th>\n",
       "      <td>671</td>\n",
       "      <td>6365</td>\n",
       "      <td>4.0</td>\n",
       "    </tr>\n",
       "    <tr>\n",
       "      <th>100002</th>\n",
       "      <td>671</td>\n",
       "      <td>6385</td>\n",
       "      <td>2.5</td>\n",
       "    </tr>\n",
       "    <tr>\n",
       "      <th>100003</th>\n",
       "      <td>671</td>\n",
       "      <td>6565</td>\n",
       "      <td>3.5</td>\n",
       "    </tr>\n",
       "  </tbody>\n",
       "</table>\n",
       "<p>100004 rows × 3 columns</p>\n",
       "</div>"
      ],
      "text/plain": [
       "        userId  movieId  rating\n",
       "0            1       31     2.5\n",
       "1            1     1029     3.0\n",
       "2            1     1061     3.0\n",
       "3            1     1129     2.0\n",
       "4            1     1172     4.0\n",
       "...        ...      ...     ...\n",
       "99999      671     6268     2.5\n",
       "100000     671     6269     4.0\n",
       "100001     671     6365     4.0\n",
       "100002     671     6385     2.5\n",
       "100003     671     6565     3.5\n",
       "\n",
       "[100004 rows x 3 columns]"
      ]
     },
     "execution_count": 5,
     "metadata": {},
     "output_type": "execute_result"
    }
   ],
   "source": [
    "data"
   ]
  },
  {
   "cell_type": "code",
   "execution_count": 6,
   "id": "1e14607f",
   "metadata": {},
   "outputs": [
    {
     "data": {
      "text/plain": [
       "8223"
      ]
     },
     "execution_count": 6,
     "metadata": {},
     "output_type": "execute_result"
    }
   ],
   "source": [
    "unique_values = trainset['movieId'].nunique()\n",
    "unique_values"
   ]
  },
  {
   "cell_type": "code",
   "execution_count": 7,
   "id": "d885946e",
   "metadata": {},
   "outputs": [
    {
     "data": {
      "text/plain": [
       "671"
      ]
     },
     "execution_count": 7,
     "metadata": {},
     "output_type": "execute_result"
    }
   ],
   "source": [
    "unique_values1 = trainset['userId'].nunique()\n",
    "unique_values1"
   ]
  },
  {
   "cell_type": "code",
   "execution_count": 8,
   "id": "157a442f",
   "metadata": {},
   "outputs": [
    {
     "name": "stdout",
     "output_type": "stream",
     "text": [
      "Кол-во фильмов: 8223\n"
     ]
    }
   ],
   "source": [
    "# items\n",
    "# уникальные значения id фильма\n",
    "items_set = set(trainset['movieId'])\n",
    "items_dict = {item: iditem for item, iditem in zip(items_set, range(len(items_set)))}\n",
    "\n",
    "print(f'Кол-во фильмов: {len(items_set)}')"
   ]
  },
  {
   "cell_type": "code",
   "execution_count": 9,
   "id": "7c05b5d4",
   "metadata": {},
   "outputs": [
    {
     "name": "stdout",
     "output_type": "stream",
     "text": [
      "Кол-во пользователей: 671\n"
     ]
    }
   ],
   "source": [
    "# аналогично для users\n",
    "users_set = set(trainset['userId'])\n",
    "users_dict = {user: iduser for user, iduser in zip(users_set, range(len(users_set)))}\n",
    "print(f'Кол-во пользователей: {len(users_set)}')"
   ]
  },
  {
   "cell_type": "code",
   "execution_count": 10,
   "id": "76c6d80f",
   "metadata": {},
   "outputs": [],
   "source": [
    "# столбцы матрицы - фильмы\n",
    "items = trainset['movieId'].map(items_dict)\n",
    "# строки матрицы - пользователи\n",
    "users = trainset['userId'].map(users_dict)\n",
    "# значения для подстановки в матрицу\n",
    "values = trainset.rating.tolist()"
   ]
  },
  {
   "cell_type": "code",
   "execution_count": 11,
   "id": "6c3e929d",
   "metadata": {},
   "outputs": [
    {
     "data": {
      "text/plain": [
       "<671x8223 sparse matrix of type '<class 'numpy.float64'>'\n",
       "\twith 75003 stored elements in Compressed Sparse Row format>"
      ]
     },
     "execution_count": 11,
     "metadata": {},
     "output_type": "execute_result"
    }
   ],
   "source": [
    "from scipy.sparse import csr_matrix\n",
    "\n",
    "# матрица user_item\n",
    "user_item = csr_matrix((values, (users, items)), shape=(len(users_set), len(items_set)))\n",
    "user_item"
   ]
  },
  {
   "cell_type": "code",
   "execution_count": 12,
   "id": "b8110cf1",
   "metadata": {},
   "outputs": [
    {
     "name": "stdout",
     "output_type": "stream",
     "text": [
      "  (0, 30)\t2.5\n",
      "  (0, 875)\t3.0\n",
      "  (0, 903)\t3.0\n",
      "  (0, 958)\t2.0\n",
      "  (0, 985)\t4.0\n",
      "  (0, 1072)\t2.0\n",
      "  (0, 1096)\t2.0\n",
      "  (0, 1102)\t2.0\n",
      "  (0, 1141)\t2.0\n",
      "  (0, 1168)\t2.5\n",
      "  (0, 1202)\t1.0\n",
      "  (0, 1619)\t4.0\n",
      "  (0, 1765)\t4.0\n",
      "  (0, 1810)\t3.0\n",
      "  (0, 1845)\t2.0\n",
      "  (0, 1924)\t2.0\n",
      "  (0, 2071)\t2.5\n",
      "  (0, 2503)\t1.0\n",
      "  (0, 3073)\t3.0\n",
      "  (1, 9)\t4.0\n",
      "  (1, 16)\t5.0\n",
      "  (1, 38)\t5.0\n",
      "  (1, 49)\t4.0\n",
      "  (1, 51)\t3.0\n",
      "  (1, 59)\t3.0\n",
      "  :\t:\n",
      "  (670, 3389)\t4.0\n",
      "  (670, 3393)\t4.0\n",
      "  (670, 3394)\t4.5\n",
      "  (670, 3600)\t3.5\n",
      "  (670, 3985)\t4.0\n",
      "  (670, 3989)\t5.0\n",
      "  (670, 3995)\t5.0\n",
      "  (670, 4041)\t4.5\n",
      "  (670, 4069)\t4.0\n",
      "  (670, 4079)\t2.0\n",
      "  (670, 4207)\t2.0\n",
      "  (670, 4259)\t3.0\n",
      "  (670, 4288)\t4.0\n",
      "  (670, 4307)\t4.0\n",
      "  (670, 4347)\t4.5\n",
      "  (670, 4361)\t3.0\n",
      "  (670, 4482)\t4.0\n",
      "  (670, 4557)\t4.0\n",
      "  (670, 4598)\t3.5\n",
      "  (670, 4631)\t5.0\n",
      "  (670, 4655)\t4.0\n",
      "  (670, 4657)\t4.5\n",
      "  (670, 4800)\t2.5\n",
      "  (670, 4858)\t4.0\n",
      "  (670, 4870)\t2.5\n"
     ]
    }
   ],
   "source": [
    "print(user_item)"
   ]
  },
  {
   "cell_type": "code",
   "execution_count": 15,
   "id": "9e67ec88-2daf-488c-bb53-47c4272c5977",
   "metadata": {},
   "outputs": [
    {
     "name": "stdout",
     "output_type": "stream",
     "text": [
      "<class 'pandas.core.frame.DataFrame'>\n",
      "RangeIndex: 100004 entries, 0 to 100003\n",
      "Data columns (total 3 columns):\n",
      " #   Column   Non-Null Count   Dtype  \n",
      "---  ------   --------------   -----  \n",
      " 0   userId   100004 non-null  int64  \n",
      " 1   movieId  100004 non-null  int64  \n",
      " 2   rating   100004 non-null  float64\n",
      "dtypes: float64(1), int64(2)\n",
      "memory usage: 2.3 MB\n"
     ]
    }
   ],
   "source": [
    "data.info()"
   ]
  },
  {
   "cell_type": "markdown",
   "id": "ad4f502b",
   "metadata": {},
   "source": [
    "# Surprise (scikit-surprise):"
   ]
  },
  {
   "cell_type": "code",
   "execution_count": 13,
   "id": "bb6f940a",
   "metadata": {},
   "outputs": [
    {
     "name": "stdout",
     "output_type": "stream",
     "text": [
      "Computing the msd similarity matrix...\n",
      "Done computing similarity matrix.\n",
      "MAE:  0.7259\n"
     ]
    }
   ],
   "source": [
    "#Surprise (scikit-surprise):\n",
    "from surprise import Dataset, Reader, KNNBasic\n",
    "from surprise.model_selection import train_test_split\n",
    "from surprise import accuracy\n",
    "\n",
    "\n",
    "\n",
    "#rows, cols = user_item.nonzero()\n",
    "#data_values = user_item.data\n",
    "#data_list = list(zip(rows, cols, data_values))\n",
    "\n",
    "\n",
    "reader = Reader(rating_scale=(1, 5))\n",
    "\n",
    "# Используем метод load_from_df для создания объекта Dataset\n",
    "data1 = Dataset.load_from_df(data, reader)\n",
    "trainset1, testset1 = train_test_split(data1, test_size=0.25, random_state=68)\n",
    "err = []\n",
    "\n",
    "sim_options = {\n",
    "    'name': 'msd',\n",
    "    'user_based': False\n",
    "}\n",
    "\n",
    "model = KNNBasic(sim_options=sim_options)\n",
    "model.fit(trainset1)\n",
    "\n",
    "predictions = model.test(testset1)\n",
    "\n",
    "rmse = accuracy.mae(predictions)                    \n",
    "err.append(rmse)\n"
   ]
  },
  {
   "cell_type": "code",
   "execution_count": 101,
   "id": "816d737a",
   "metadata": {},
   "outputs": [
    {
     "name": "stdout",
     "output_type": "stream",
     "text": [
      "        user  item  rating timestamp\n",
      "0          1    31     2.5      None\n",
      "1          1  1029     3.0      None\n",
      "2          1  1061     3.0      None\n",
      "3          1  1129     2.0      None\n",
      "4          1  1172     4.0      None\n",
      "...      ...   ...     ...       ...\n",
      "99999    671  6268     2.5      None\n",
      "100000   671  6269     4.0      None\n",
      "100001   671  6365     4.0      None\n",
      "100002   671  6385     2.5      None\n",
      "100003   671  6565     3.5      None\n",
      "\n",
      "[100004 rows x 4 columns]\n"
     ]
    }
   ],
   "source": [
    "import pandas as pd\n",
    "\n",
    "df = pd.DataFrame(data1.raw_ratings, columns=['user', 'item', 'rating', 'timestamp'])\n",
    "print(df)"
   ]
  },
  {
   "cell_type": "code",
   "execution_count": 118,
   "id": "75fa8ab0",
   "metadata": {},
   "outputs": [
    {
     "name": "stdout",
     "output_type": "stream",
     "text": [
      "pearson_baseline\n",
      "Estimating biases using als...\n",
      "Computing the pearson_baseline similarity matrix...\n",
      "Done computing similarity matrix.\n",
      "RMSE: 1.0180\n",
      "cosine\n",
      "Computing the cosine similarity matrix...\n",
      "Done computing similarity matrix.\n",
      "RMSE: 1.0043\n",
      "pearson\n",
      "Computing the pearson similarity matrix...\n",
      "Done computing similarity matrix.\n",
      "RMSE: 1.0117\n",
      "msd\n",
      "Computing the msd similarity matrix...\n",
      "Done computing similarity matrix.\n",
      "RMSE: 0.9880\n"
     ]
    }
   ],
   "source": [
    "#Surprise (scikit-surprise):\n",
    "from surprise import Dataset, Reader, KNNBasic\n",
    "from surprise.model_selection import train_test_split\n",
    "from surprise import accuracy\n",
    "\n",
    "reader = Reader(rating_scale=(1, 5))\n",
    "\n",
    "# Используем метод load_from_df для создания объекта Dataset\n",
    "data1 = Dataset.load_from_df(data[['userId', 'movieId', 'rating']], reader)\n",
    "trainset1, testset1 = train_test_split(data1, test_size=0.35, random_state=42)\n",
    "\n",
    "alg = ['pearson_baseline', 'cosine', 'pearson','msd']\n",
    "err = []\n",
    "\n",
    "\n",
    "\n",
    "\n",
    "rs = []\n",
    "    \n",
    "for er in alg:\n",
    "    sim_options = {\n",
    "        'name': er,\n",
    "        'user_based': True\n",
    "    }\n",
    "    print(er)\n",
    "    model = KNNBasic(k=200,sim_options=sim_options)\n",
    "    model.fit(trainset1)\n",
    "\n",
    "    predictions = model.test(testset1)\n",
    "\n",
    "    rmse = accuracy.rmse(predictions)\n",
    "    err.append(rmse)"
   ]
  },
  {
   "cell_type": "code",
   "execution_count": null,
   "id": "594f242a",
   "metadata": {},
   "outputs": [],
   "source": [
    "#Surprise (scikit-surprise):\n",
    "from surprise import Dataset, Reader, KNNBasic\n",
    "from surprise.model_selection import train_test_split\n",
    "from surprise import accuracy\n",
    "from surprise import SVD\n",
    "\n",
    "reader = Reader(rating_scale=(1, 5))\n",
    "\n",
    "# Используем метод load_from_df для создания объекта Dataset\n",
    "data1 = Dataset.load_from_df(data[['userId', 'movieId', 'rating']], reader)\n",
    "trainset1, testset1 = train_test_split(data1, test_size=0.35, random_state=42)\n",
    "\n",
    "alg = ['pearson_baseline', 'cosine', 'pearson','msd']\n",
    "err = []\n",
    "\n",
    "\n",
    "algo = SVD()\n",
    "algo.fit(trainset1)\n",
    "predictions = algo.test(testset)\n",
    "accuracy.mae(predictions)\n",
    "\n",
    "\n",
    "\n",
    "rs = []\n",
    "    \n",
    "for er in alg:\n",
    "    sim_options = {\n",
    "        'name': er,\n",
    "        'user_based': True\n",
    "    }\n",
    "    print(er)\n",
    "    model = KNNBasic(k=200,sim_options=sim_options)\n",
    "    model.fit(trainset1)\n",
    "\n",
    "    predictions = model.test(testset1)\n",
    "\n",
    "    rmse = accuracy.mae(predictions)\n",
    "    err.append(rmse)"
   ]
  },
  {
   "cell_type": "code",
   "execution_count": 114,
   "id": "b92d8dc1",
   "metadata": {},
   "outputs": [
    {
     "name": "stdout",
     "output_type": "stream",
     "text": [
      "        user  item  rating timestamp\n",
      "0          1    31     2.5      None\n",
      "1          1  1029     3.0      None\n",
      "2          1  1061     3.0      None\n",
      "3          1  1129     2.0      None\n",
      "4          1  1172     4.0      None\n",
      "...      ...   ...     ...       ...\n",
      "99999    671  6268     2.5      None\n",
      "100000   671  6269     4.0      None\n",
      "100001   671  6365     4.0      None\n",
      "100002   671  6385     2.5      None\n",
      "100003   671  6565     3.5      None\n",
      "\n",
      "[100004 rows x 4 columns]\n"
     ]
    }
   ],
   "source": [
    "import pandas as pd\n",
    "\n",
    "df = pd.DataFrame(data1.raw_ratings, columns=['user', 'item', 'rating', 'timestamp'])\n",
    "print(df)"
   ]
  },
  {
   "cell_type": "code",
   "execution_count": 115,
   "id": "7739f88a",
   "metadata": {},
   "outputs": [
    {
     "data": {
      "text/plain": [
       "[0.7863535944505328,\n",
       " 0.7780303151016517,\n",
       " 0.7827476247021307,\n",
       " 0.7619353126347134]"
      ]
     },
     "execution_count": 115,
     "metadata": {},
     "output_type": "execute_result"
    }
   ],
   "source": [
    "err"
   ]
  },
  {
   "cell_type": "code",
   "execution_count": 119,
   "id": "528abd17",
   "metadata": {},
   "outputs": [
    {
     "data": {
      "image/png": "[encoded data removed]",
      "text/plain": [
       "<Figure size 640x480 with 1 Axes>"
      ]
     },
     "metadata": {},
     "output_type": "display_data"
    }
   ],
   "source": [
    "import matplotlib.pyplot as plt\n",
    "\n",
    "\n",
    "\n",
    "plt.plot(alg, err)\n",
    "\n",
    "plt.grid(True)\n",
    "plt.show()"
   ]
  },
  {
   "cell_type": "markdown",
   "id": "97cc4a3e",
   "metadata": {},
   "source": [
    "# ручная реализация:"
   ]
  },
  {
   "cell_type": "code",
   "execution_count": null,
   "id": "f532856f",
   "metadata": {},
   "outputs": [],
   "source": []
  },
  {
   "cell_type": "code",
   "execution_count": 27,
   "id": "7857a69a",
   "metadata": {},
   "outputs": [
    {
     "name": "stdout",
     "output_type": "stream",
     "text": [
      "  (0, 0)\t5\n",
      "  (0, 1)\t3\n",
      "  (0, 4)\t4\n",
      "  (1, 0)\t4\n",
      "  (1, 5)\t1\n",
      "  (1, 7)\t2\n",
      "  (1, 8)\t3\n",
      "  (2, 1)\t5\n",
      "  (2, 2)\t5\n",
      "  (3, 2)\t4\n",
      "  (3, 3)\t3\n",
      "  (3, 5)\t2\n",
      "  (3, 6)\t1\n"
     ]
    }
   ],
   "source": [
    "Test = True #use test data for checking correction\n",
    "ratings = None\n",
    "table = [[5, 3, 0, 0, 4, 0, 0, 0, 0], \n",
    "         [4, 0, 0, 0, 0, 1, 0, 2, 3], \n",
    "         [0, 5, 5, 0, 0, 0, 0, 0, 0], \n",
    "         [0, 0, 4, 3, 0, 2, 1, 0, 0]]\n",
    "\n",
    "res_users = [i + 1 for i in range(len(table))]\n",
    "res_movies = [i + 1 for i in range(len(table[0]))]\n",
    "\n",
    "csr_matrix_table = csr_matrix(table)\n",
    "\n",
    "print(csr_matrix_table)"
   ]
  },
  {
   "cell_type": "code",
   "execution_count": 28,
   "id": "342a063c",
   "metadata": {},
   "outputs": [
    {
     "name": "stdout",
     "output_type": "stream",
     "text": [
      "    userId  movieId  rating\n",
      "0      1.0      1.0     5.0\n",
      "1      1.0      2.0     3.0\n",
      "2      1.0      5.0     4.0\n",
      "3      2.0      1.0     4.0\n",
      "4      2.0      6.0     1.0\n",
      "5      2.0      8.0     2.0\n",
      "6      2.0      9.0     3.0\n",
      "7      3.0      2.0     5.0\n",
      "8      3.0      3.0     5.0\n",
      "9      4.0      3.0     4.0\n",
      "10     4.0      4.0     3.0\n",
      "11     4.0      6.0     2.0\n",
      "12     4.0      7.0     1.0\n"
     ]
    }
   ],
   "source": [
    "csr_matrix_table = csr_matrix(table)\n",
    "\n",
    "# Извлечение данных, индексов и указателей\n",
    "data = csr_matrix_table.data\n",
    "indices = csr_matrix_table.indices\n",
    "indptr = csr_matrix_table.indptr\n",
    "\n",
    "# Создание DataFrame\n",
    "df = pd.DataFrame({'userId': [], 'movieId': [], 'rating': []})\n",
    "\n",
    "# Заполнение DataFrame данными из CSR-матрицы\n",
    "for user_id, (start, end) in enumerate(zip(indptr[:-1], indptr[1:])):\n",
    "    movie_ids = indices[start:end]\n",
    "    ratings = data[start:end]\n",
    "    user_data = pd.DataFrame({'userId': [user_id + 1] * len(movie_ids),\n",
    "                              'movieId': movie_ids + 1,  # Добавляем 1, так как индексы начинаются с 1\n",
    "                              'rating': ratings})\n",
    "    df = pd.concat([df, user_data], ignore_index=True)\n",
    "\n",
    "# Вывод DataFrame\n",
    "print(df)\n"
   ]
  },
  {
   "cell_type": "code",
   "execution_count": 29,
   "id": "d5076b07",
   "metadata": {},
   "outputs": [
    {
     "data": {
      "text/html": [
       "<div>\n",
       "<style scoped>\n",
       "    .dataframe tbody tr th:only-of-type {\n",
       "        vertical-align: middle;\n",
       "    }\n",
       "\n",
       "    .dataframe tbody tr th {\n",
       "        vertical-align: top;\n",
       "    }\n",
       "\n",
       "    .dataframe thead th {\n",
       "        text-align: right;\n",
       "    }\n",
       "</style>\n",
       "<table border=\"1\" class=\"dataframe\">\n",
       "  <thead>\n",
       "    <tr style=\"text-align: right;\">\n",
       "      <th>movieId</th>\n",
       "      <th>1.0</th>\n",
       "      <th>2.0</th>\n",
       "      <th>3.0</th>\n",
       "      <th>4.0</th>\n",
       "      <th>5.0</th>\n",
       "      <th>6.0</th>\n",
       "      <th>7.0</th>\n",
       "      <th>8.0</th>\n",
       "      <th>9.0</th>\n",
       "    </tr>\n",
       "    <tr>\n",
       "      <th>userId</th>\n",
       "      <th></th>\n",
       "      <th></th>\n",
       "      <th></th>\n",
       "      <th></th>\n",
       "      <th></th>\n",
       "      <th></th>\n",
       "      <th></th>\n",
       "      <th></th>\n",
       "      <th></th>\n",
       "    </tr>\n",
       "  </thead>\n",
       "  <tbody>\n",
       "    <tr>\n",
       "      <th>1.0</th>\n",
       "      <td>5.0</td>\n",
       "      <td>3.0</td>\n",
       "      <td>0.0</td>\n",
       "      <td>0.0</td>\n",
       "      <td>4.0</td>\n",
       "      <td>0.0</td>\n",
       "      <td>0.0</td>\n",
       "      <td>0.0</td>\n",
       "      <td>0.0</td>\n",
       "    </tr>\n",
       "    <tr>\n",
       "      <th>2.0</th>\n",
       "      <td>4.0</td>\n",
       "      <td>0.0</td>\n",
       "      <td>0.0</td>\n",
       "      <td>0.0</td>\n",
       "      <td>0.0</td>\n",
       "      <td>1.0</td>\n",
       "      <td>0.0</td>\n",
       "      <td>2.0</td>\n",
       "      <td>3.0</td>\n",
       "    </tr>\n",
       "    <tr>\n",
       "      <th>3.0</th>\n",
       "      <td>0.0</td>\n",
       "      <td>5.0</td>\n",
       "      <td>5.0</td>\n",
       "      <td>0.0</td>\n",
       "      <td>0.0</td>\n",
       "      <td>0.0</td>\n",
       "      <td>0.0</td>\n",
       "      <td>0.0</td>\n",
       "      <td>0.0</td>\n",
       "    </tr>\n",
       "    <tr>\n",
       "      <th>4.0</th>\n",
       "      <td>0.0</td>\n",
       "      <td>0.0</td>\n",
       "      <td>4.0</td>\n",
       "      <td>3.0</td>\n",
       "      <td>0.0</td>\n",
       "      <td>2.0</td>\n",
       "      <td>1.0</td>\n",
       "      <td>0.0</td>\n",
       "      <td>0.0</td>\n",
       "    </tr>\n",
       "  </tbody>\n",
       "</table>\n",
       "</div>"
      ],
      "text/plain": [
       "movieId  1.0  2.0  3.0  4.0  5.0  6.0  7.0  8.0  9.0\n",
       "userId                                              \n",
       "1.0      5.0  3.0  0.0  0.0  4.0  0.0  0.0  0.0  0.0\n",
       "2.0      4.0  0.0  0.0  0.0  0.0  1.0  0.0  2.0  3.0\n",
       "3.0      0.0  5.0  5.0  0.0  0.0  0.0  0.0  0.0  0.0\n",
       "4.0      0.0  0.0  4.0  3.0  0.0  2.0  1.0  0.0  0.0"
      ]
     },
     "execution_count": 29,
     "metadata": {},
     "output_type": "execute_result"
    }
   ],
   "source": [
    "\n",
    "res_data = df\n",
    "matrix = pd.crosstab(res_data['userId'], res_data['movieId'], values=res_data['rating'], aggfunc=\"sum\").fillna(0)\n",
    "matrix"
   ]
  },
  {
   "cell_type": "code",
   "execution_count": 30,
   "id": "d6694799",
   "metadata": {},
   "outputs": [
    {
     "data": {
      "text/html": [
       "<div>\n",
       "<style scoped>\n",
       "    .dataframe tbody tr th:only-of-type {\n",
       "        vertical-align: middle;\n",
       "    }\n",
       "\n",
       "    .dataframe tbody tr th {\n",
       "        vertical-align: top;\n",
       "    }\n",
       "\n",
       "    .dataframe thead th {\n",
       "        text-align: right;\n",
       "    }\n",
       "</style>\n",
       "<table border=\"1\" class=\"dataframe\">\n",
       "  <thead>\n",
       "    <tr style=\"text-align: right;\">\n",
       "      <th></th>\n",
       "      <th>userId_1</th>\n",
       "      <th>userId_2</th>\n",
       "      <th>r</th>\n",
       "    </tr>\n",
       "  </thead>\n",
       "  <tbody>\n",
       "    <tr>\n",
       "      <th>0</th>\n",
       "      <td>1.0</td>\n",
       "      <td>2.0</td>\n",
       "      <td>0.483602</td>\n",
       "    </tr>\n",
       "    <tr>\n",
       "      <th>1</th>\n",
       "      <td>2.0</td>\n",
       "      <td>1.0</td>\n",
       "      <td>0.483602</td>\n",
       "    </tr>\n",
       "    <tr>\n",
       "      <th>2</th>\n",
       "      <td>1.0</td>\n",
       "      <td>3.0</td>\n",
       "      <td>0.700000</td>\n",
       "    </tr>\n",
       "    <tr>\n",
       "      <th>3</th>\n",
       "      <td>3.0</td>\n",
       "      <td>1.0</td>\n",
       "      <td>0.700000</td>\n",
       "    </tr>\n",
       "    <tr>\n",
       "      <th>4</th>\n",
       "      <td>1.0</td>\n",
       "      <td>4.0</td>\n",
       "      <td>1.000000</td>\n",
       "    </tr>\n",
       "    <tr>\n",
       "      <th>5</th>\n",
       "      <td>4.0</td>\n",
       "      <td>1.0</td>\n",
       "      <td>1.000000</td>\n",
       "    </tr>\n",
       "    <tr>\n",
       "      <th>6</th>\n",
       "      <td>2.0</td>\n",
       "      <td>3.0</td>\n",
       "      <td>1.000000</td>\n",
       "    </tr>\n",
       "    <tr>\n",
       "      <th>7</th>\n",
       "      <td>3.0</td>\n",
       "      <td>2.0</td>\n",
       "      <td>1.000000</td>\n",
       "    </tr>\n",
       "    <tr>\n",
       "      <th>8</th>\n",
       "      <td>2.0</td>\n",
       "      <td>4.0</td>\n",
       "      <td>0.933333</td>\n",
       "    </tr>\n",
       "    <tr>\n",
       "      <th>9</th>\n",
       "      <td>4.0</td>\n",
       "      <td>2.0</td>\n",
       "      <td>0.933333</td>\n",
       "    </tr>\n",
       "    <tr>\n",
       "      <th>10</th>\n",
       "      <td>3.0</td>\n",
       "      <td>4.0</td>\n",
       "      <td>0.483602</td>\n",
       "    </tr>\n",
       "    <tr>\n",
       "      <th>11</th>\n",
       "      <td>4.0</td>\n",
       "      <td>3.0</td>\n",
       "      <td>0.483602</td>\n",
       "    </tr>\n",
       "  </tbody>\n",
       "</table>\n",
       "</div>"
      ],
      "text/plain": [
       "    userId_1  userId_2         r\n",
       "0        1.0       2.0  0.483602\n",
       "1        2.0       1.0  0.483602\n",
       "2        1.0       3.0  0.700000\n",
       "3        3.0       1.0  0.700000\n",
       "4        1.0       4.0  1.000000\n",
       "5        4.0       1.0  1.000000\n",
       "6        2.0       3.0  1.000000\n",
       "7        3.0       2.0  1.000000\n",
       "8        2.0       4.0  0.933333\n",
       "9        4.0       2.0  0.933333\n",
       "10       3.0       4.0  0.483602\n",
       "11       4.0       3.0  0.483602"
      ]
     },
     "execution_count": 30,
     "metadata": {},
     "output_type": "execute_result"
    }
   ],
   "source": [
    "import numpy as np\n",
    "import pandas as pd\n",
    "import matplotlib.pyplot as plt\n",
    "from sklearn.neighbors import KNeighborsClassifier\n",
    "from sklearn.metrics.pairwise import pairwise_distances, euclidean_distances, cosine_similarity\n",
    "# оценить схожести между пользователями\n",
    "movies = list(matrix.columns)\n",
    "users = list(matrix[movies[0]].index)\n",
    "\n",
    "r_users = pd.DataFrame(columns=['userId_1', 'userId_2', 'r'])\n",
    "\n",
    "for i in range(len(users)):\n",
    "    target_row = [matrix[movie][users[i]] for movie in movies]\n",
    "    #u1 = getVector(users[i])\n",
    "    for j in range(i + 1, len(users)):\n",
    "        row = [matrix[movie][users[j]] for movie in movies]\n",
    "\n",
    "        r = pairwise_distances([target_row], [row], metric='cosine')[0][0]\n",
    "        r_users.loc[len(r_users.index)] = [users[i], users[j], r]\n",
    "        r_users.loc[len(r_users.index)] = [users[j], users[i], r]\n",
    "\n",
    "r_users"
   ]
  },
  {
   "cell_type": "code",
   "execution_count": 31,
   "id": "ea37838b",
   "metadata": {},
   "outputs": [
    {
     "data": {
      "text/plain": [
       "3.6133910643424003"
      ]
     },
     "execution_count": 31,
     "metadata": {},
     "output_type": "execute_result"
    }
   ],
   "source": [
    "def predicted(matrix, target_user, target_film):\n",
    "    users = list(matrix[matrix.columns[0]].index)\n",
    "    an_users = np.setdiff1d(users.copy(), [target_user])\n",
    "    \n",
    "    K = 3\n",
    "    knn = {an_users[i]: r_users.loc[(r_users['userId_1'] == target_user) &\n",
    "                       (r_users['userId_2'] == an_users[i]), 'r'].sum()\n",
    "             for i in range(K)} \n",
    "\n",
    "    min_knn_key = min(knn, key=knn.get)\n",
    "\n",
    "    for close in an_users[K:]:\n",
    "        r = r_users.loc[(r_users['userId_1'] == target_user) &\n",
    "                       (r_users['userId_2'] == close), 'r'].sum()\n",
    "\n",
    "        if r > knn[min_knn_key]:\n",
    "            knn.pop(min_knn_key)\n",
    "            knn[close] = r\n",
    "            min_knn_key = min(knn, key=knn.get)\n",
    "            \n",
    "    rm = sum(matrix[target_film][close] for close, si in knn.items()\n",
    "              ) / len(knn) \n",
    "    suppose_r = rm + sum(si * (matrix[target_film][close] - rm) for close, si in knn.items()) / sum(knn.values())\n",
    "    \n",
    "    return suppose_r    \n",
    "\n",
    "predicted(matrix, 2, 3)"
   ]
  },
  {
   "cell_type": "code",
   "execution_count": 32,
   "id": "f2ecc9bf",
   "metadata": {},
   "outputs": [
    {
     "data": {
      "text/html": [
       "<div>\n",
       "<style scoped>\n",
       "    .dataframe tbody tr th:only-of-type {\n",
       "        vertical-align: middle;\n",
       "    }\n",
       "\n",
       "    .dataframe tbody tr th {\n",
       "        vertical-align: top;\n",
       "    }\n",
       "\n",
       "    .dataframe thead th {\n",
       "        text-align: right;\n",
       "    }\n",
       "</style>\n",
       "<table border=\"1\" class=\"dataframe\">\n",
       "  <thead>\n",
       "    <tr style=\"text-align: right;\">\n",
       "      <th>movieId</th>\n",
       "      <th>1.0</th>\n",
       "      <th>2.0</th>\n",
       "      <th>3.0</th>\n",
       "      <th>4.0</th>\n",
       "      <th>5.0</th>\n",
       "      <th>6.0</th>\n",
       "      <th>7.0</th>\n",
       "      <th>8.0</th>\n",
       "      <th>9.0</th>\n",
       "    </tr>\n",
       "    <tr>\n",
       "      <th>userId</th>\n",
       "      <th></th>\n",
       "      <th></th>\n",
       "      <th></th>\n",
       "      <th></th>\n",
       "      <th></th>\n",
       "      <th></th>\n",
       "      <th></th>\n",
       "      <th></th>\n",
       "      <th></th>\n",
       "    </tr>\n",
       "  </thead>\n",
       "  <tbody>\n",
       "    <tr>\n",
       "      <th>1.0</th>\n",
       "      <td>5.000000</td>\n",
       "      <td>3.000000</td>\n",
       "      <td>3.434692</td>\n",
       "      <td>1.373877</td>\n",
       "      <td>4.000000</td>\n",
       "      <td>1.137388</td>\n",
       "      <td>0.457959</td>\n",
       "      <td>0.442940</td>\n",
       "      <td>0.664410</td>\n",
       "    </tr>\n",
       "    <tr>\n",
       "      <th>2.0</th>\n",
       "      <td>4.000000</td>\n",
       "      <td>2.669002</td>\n",
       "      <td>3.613391</td>\n",
       "      <td>1.158492</td>\n",
       "      <td>0.800356</td>\n",
       "      <td>1.000000</td>\n",
       "      <td>0.386164</td>\n",
       "      <td>2.000000</td>\n",
       "      <td>3.000000</td>\n",
       "    </tr>\n",
       "    <tr>\n",
       "      <th>3.0</th>\n",
       "      <td>3.434692</td>\n",
       "      <td>5.000000</td>\n",
       "      <td>5.000000</td>\n",
       "      <td>0.664410</td>\n",
       "      <td>1.282285</td>\n",
       "      <td>0.900899</td>\n",
       "      <td>0.221470</td>\n",
       "      <td>0.915918</td>\n",
       "      <td>1.373877</td>\n",
       "    </tr>\n",
       "    <tr>\n",
       "      <th>4.0</th>\n",
       "      <td>3.613391</td>\n",
       "      <td>2.241686</td>\n",
       "      <td>4.000000</td>\n",
       "      <td>3.000000</td>\n",
       "      <td>1.654988</td>\n",
       "      <td>2.000000</td>\n",
       "      <td>1.000000</td>\n",
       "      <td>0.772328</td>\n",
       "      <td>1.158492</td>\n",
       "    </tr>\n",
       "  </tbody>\n",
       "</table>\n",
       "</div>"
      ],
      "text/plain": [
       "movieId       1.0       2.0       3.0       4.0       5.0       6.0       7.0  \\\n",
       "userId                                                                          \n",
       "1.0      5.000000  3.000000  3.434692  1.373877  4.000000  1.137388  0.457959   \n",
       "2.0      4.000000  2.669002  3.613391  1.158492  0.800356  1.000000  0.386164   \n",
       "3.0      3.434692  5.000000  5.000000  0.664410  1.282285  0.900899  0.221470   \n",
       "4.0      3.613391  2.241686  4.000000  3.000000  1.654988  2.000000  1.000000   \n",
       "\n",
       "movieId       8.0       9.0  \n",
       "userId                       \n",
       "1.0      0.442940  0.664410  \n",
       "2.0      2.000000  3.000000  \n",
       "3.0      0.915918  1.373877  \n",
       "4.0      0.772328  1.158492  "
      ]
     },
     "execution_count": 32,
     "metadata": {},
     "output_type": "execute_result"
    }
   ],
   "source": [
    "resolve = matrix.copy()\n",
    "movies = matrix.columns\n",
    "users = list(matrix[movies[0]].index)\n",
    "\n",
    "\n",
    "for user in users:\n",
    "    for movie in movies:\n",
    "        if resolve[movie][user] == 0:\n",
    "            resolve[movie][user] = predicted(matrix, user, movie)\n",
    "\n",
    "resolve"
   ]
  },
  {
   "cell_type": "code",
   "execution_count": null,
   "id": "34af0711",
   "metadata": {},
   "outputs": [],
   "source": []
  }
 ],
 "metadata": {
  "kernelspec": {
   "display_name": "Python 3 (ipykernel)",
   "language": "python",
   "name": "python3"
  },
  "language_info": {
   "codemirror_mode": {
    "name": "ipython",
    "version": 3
   },
   "file_extension": ".py",
   "mimetype": "text/x-python",
   "name": "python",
   "nbconvert_exporter": "python",
   "pygments_lexer": "ipython3",
   "version": "3.11.4"
  }
 },
 "nbformat": 4,
 "nbformat_minor": 5
}
